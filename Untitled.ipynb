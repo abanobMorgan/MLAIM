{
 "cells": [
  {
   "cell_type": "code",
   "execution_count": null,
   "id": "ede7a776",
   "metadata": {},
   "outputs": [],
   "source": []
  },
  {
   "cell_type": "code",
   "execution_count": 1,
   "id": "66e3c4c0",
   "metadata": {},
   "outputs": [],
   "source": [
    "import numpy as np\n",
    "import pandas as pd\n",
    "import re\n",
    "import nltk\n",
    "from nltk.tokenize import wordpunct_tokenize\n",
    "from sklearn.model_selection import train_test_split\n"
   ]
  },
  {
   "cell_type": "code",
   "execution_count": 2,
   "id": "229c8f12",
   "metadata": {},
   "outputs": [
    {
     "data": {
      "text/html": [
       "<div>\n",
       "<style scoped>\n",
       "    .dataframe tbody tr th:only-of-type {\n",
       "        vertical-align: middle;\n",
       "    }\n",
       "\n",
       "    .dataframe tbody tr th {\n",
       "        vertical-align: top;\n",
       "    }\n",
       "\n",
       "    .dataframe thead th {\n",
       "        text-align: right;\n",
       "    }\n",
       "</style>\n",
       "<table border=\"1\" class=\"dataframe\">\n",
       "  <thead>\n",
       "    <tr style=\"text-align: right;\">\n",
       "      <th></th>\n",
       "      <th>text</th>\n",
       "      <th>dialect</th>\n",
       "    </tr>\n",
       "  </thead>\n",
       "  <tbody>\n",
       "    <tr>\n",
       "      <th>0</th>\n",
       "      <td>بالنهايه ينتفض يغير</td>\n",
       "      <td>IQ</td>\n",
       "    </tr>\n",
       "    <tr>\n",
       "      <th>1</th>\n",
       "      <td>يعني محسوب البشر حيونه ووحشيه وتطلبون الغرب يح...</td>\n",
       "      <td>IQ</td>\n",
       "    </tr>\n",
       "    <tr>\n",
       "      <th>2</th>\n",
       "      <td>مبين كلامه خليجي</td>\n",
       "      <td>IQ</td>\n",
       "    </tr>\n",
       "    <tr>\n",
       "      <th>3</th>\n",
       "      <td>يسلملي مرورك وروحك الحلوه</td>\n",
       "      <td>IQ</td>\n",
       "    </tr>\n",
       "    <tr>\n",
       "      <th>4</th>\n",
       "      <td>وين الغيبه محمد</td>\n",
       "      <td>IQ</td>\n",
       "    </tr>\n",
       "  </tbody>\n",
       "</table>\n",
       "</div>"
      ],
      "text/plain": [
       "                                                text dialect\n",
       "0                                بالنهايه ينتفض يغير      IQ\n",
       "1  يعني محسوب البشر حيونه ووحشيه وتطلبون الغرب يح...      IQ\n",
       "2                                   مبين كلامه خليجي      IQ\n",
       "3                          يسلملي مرورك وروحك الحلوه      IQ\n",
       "4                                    وين الغيبه محمد      IQ"
      ]
     },
     "execution_count": 2,
     "metadata": {},
     "output_type": "execute_result"
    }
   ],
   "source": [
    "df = pd.read_csv('data/mergedData.txt')\n",
    "df.head()"
   ]
  },
  {
   "cell_type": "code",
   "execution_count": 27,
   "id": "1706b1ae",
   "metadata": {},
   "outputs": [
    {
     "name": "stdout",
     "output_type": "stream",
     "text": [
      "<class 'pandas.core.frame.DataFrame'>\n",
      "Int64Index: 458119 entries, 0 to 458196\n",
      "Data columns (total 2 columns):\n",
      " #   Column   Non-Null Count   Dtype \n",
      "---  ------   --------------   ----- \n",
      " 0   text     458119 non-null  object\n",
      " 1   dialect  458119 non-null  object\n",
      "dtypes: object(2)\n",
      "memory usage: 10.5+ MB\n"
     ]
    }
   ],
   "source": [
    "df.info()"
   ]
  },
  {
   "cell_type": "code",
   "execution_count": 17,
   "id": "90b5d334",
   "metadata": {},
   "outputs": [],
   "source": [
    "df.dropna(inplace=True)"
   ]
  },
  {
   "cell_type": "code",
   "execution_count": 26,
   "id": "1c71f475",
   "metadata": {},
   "outputs": [
    {
     "data": {
      "text/plain": [
       "(458119, 2)"
      ]
     },
     "execution_count": 26,
     "metadata": {},
     "output_type": "execute_result"
    }
   ],
   "source": [
    "df.shape\n"
   ]
  },
  {
   "cell_type": "code",
   "execution_count": 18,
   "id": "ac8db648",
   "metadata": {},
   "outputs": [],
   "source": [
    "X = df['text']\n",
    "y = df['dialect']\n"
   ]
  },
  {
   "cell_type": "code",
   "execution_count": 29,
   "id": "4d211a34",
   "metadata": {},
   "outputs": [],
   "source": [
    "X_train, X_demo, y_train, y_demo = train_test_split(X, y, test_size=0.3, random_state=0, stratify=y)\n",
    "X_validate, X_test, y_validate, y_test = train_test_split(X_demo, y_demo, test_size=0.5, random_state=0, stratify=y_demo)"
   ]
  },
  {
   "cell_type": "code",
   "execution_count": 32,
   "id": "83767d6a",
   "metadata": {
    "scrolled": true
   },
   "outputs": [
    {
     "data": {
      "text/plain": [
       "115178    تجيب المصاري امك اعطتك ونجيب مشاوي ونتعشي لانه...\n",
       "196748       هاذي السنافيه عربنا ماخلوا شيله ماركبوها جسمها\n",
       "129792    الماس الكهرباءي بولع حبيبي بيعلمنا نسامح بينسي...\n",
       "320307    قضاء مين غازي جريصاتي ورستم عون الايام بتحكم ا...\n",
       "197076    باقي ١٥ يوم بحاول انزل بكره ماني داخله المطبخ ...\n",
       "Name: text, dtype: object"
      ]
     },
     "execution_count": 32,
     "metadata": {},
     "output_type": "execute_result"
    }
   ],
   "source": [
    "X_train.head()"
   ]
  },
  {
   "cell_type": "code",
   "execution_count": 38,
   "id": "8ac617e6",
   "metadata": {
    "scrolled": false
   },
   "outputs": [],
   "source": [
    "from sklearn.feature_extraction.text import TfidfVectorizer\n",
    "vectr = TfidfVectorizer(ngram_range=(1,2),min_df=1)\n",
    "vectr.fit(X_train)\n",
    "vect_X = vectr.transform(X_train)\n",
    "val_X = vectr.transform(X_test)"
   ]
  },
  {
   "cell_type": "code",
   "execution_count": null,
   "id": "9e61d70f",
   "metadata": {
    "scrolled": true
   },
   "outputs": [],
   "source": [
    "from sklearn.ensemble import RandomForestClassifier\n",
    "\n",
    "clf = RandomForestClassifier(max_depth=5, random_state=0)\n",
    "    \n",
    "clf=model.fit(vect_X,y_train )\n"
   ]
  },
  {
   "cell_type": "code",
   "execution_count": null,
   "id": "86d98f88",
   "metadata": {},
   "outputs": [],
   "source": [
    "clf.score(val_X,y_validate)*100"
   ]
  },
  {
   "cell_type": "code",
   "execution_count": null,
   "id": "1d30de8b",
   "metadata": {},
   "outputs": [],
   "source": [
    "test_X = vectr.transform(X_test)\n",
    "test_X\n",
    "yhat = model.predict(test_X)\n",
    "clf.score(test_X,y_test)*100"
   ]
  },
  {
   "cell_type": "code",
   "execution_count": null,
   "id": "ee0a51ec",
   "metadata": {},
   "outputs": [],
   "source": [
    "test_z = vectr.transform([\" احنا بيقنا الصبح استاذ مجدي يومك بيضحك\"])\n",
    "\n",
    "model.predict(test_z)"
   ]
  },
  {
   "cell_type": "code",
   "execution_count": null,
   "id": "bb713ecd",
   "metadata": {},
   "outputs": [],
   "source": []
  }
 ],
 "metadata": {
  "kernelspec": {
   "display_name": "Python 3",
   "language": "python",
   "name": "python3"
  },
  "language_info": {
   "codemirror_mode": {
    "name": "ipython",
    "version": 3
   },
   "file_extension": ".py",
   "mimetype": "text/x-python",
   "name": "python",
   "nbconvert_exporter": "python",
   "pygments_lexer": "ipython3",
   "version": "3.8.8"
  }
 },
 "nbformat": 4,
 "nbformat_minor": 5
}
