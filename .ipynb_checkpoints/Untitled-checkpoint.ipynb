{
 "cells": [
  {
   "cell_type": "code",
   "execution_count": null,
   "id": "1979e127",
   "metadata": {},
   "outputs": [],
   "source": []
  },
  {
   "cell_type": "code",
   "execution_count": 1,
   "id": "66e3c4c0",
   "metadata": {},
   "outputs": [],
   "source": [
    "import numpy as np\n",
    "import pandas as pd\n",
    "import re\n",
    "import tashaphyne.arabic_const as arabconst\n"
   ]
  },
  {
   "cell_type": "code",
   "execution_count": 2,
   "id": "e7d438be",
   "metadata": {},
   "outputs": [],
   "source": [
    "def removing_http(text):\n",
    "    pattern=r'(https?:\\/\\/)(\\s)*(www\\.)?(\\s)*((\\w|\\s)+\\.)*([\\w\\-\\s]+\\/)*([\\w\\-]+)((\\?)?[\\w\\s]*=\\s*[\\w\\%&]*)*'\n",
    "    clean_text = re.sub(pattern, \" \", text)\n",
    "    return clean_text\n",
    "\n",
    "\n",
    "def clean(text): \n",
    "    pattern=r'\\W|\\s+'\n",
    "    clean_text = re.sub(pattern, \" \", text, flags=re.UNICODE)\n",
    "    clean_text = re.sub('\\s+', \" \", clean_text, flags=re.UNICODE)\n",
    "    \n",
    "    return clean_text\n",
    "\n",
    "\n",
    "def removing_tag(text):\n",
    "    pattern=r'([@A-Za-z0-9_]+)|r\"\\(\\[\\[A-Za-z0-9_]+]*\\)\"'\n",
    "    clean_text = re.sub(pattern, \" \", text)\n",
    "    \n",
    "    return clean_text\n"
   ]
  },
  {
   "cell_type": "code",
   "execution_count": 20,
   "id": "f0ff0921",
   "metadata": {},
   "outputs": [],
   "source": [
    "def strip_tatweel(text):\n",
    "    #removing ـــــــ from an arabic word\n",
    "    return re.sub(r'[%s]' % arabconst.TATWEEL,    '', text)\n",
    "def strip_tashkeel(text): \n",
    "    # removing التشكيل from the data \n",
    "    return arabconst.HARAKAT_PAT.sub('', text)"
   ]
  },
  {
   "cell_type": "code",
   "execution_count": 4,
   "id": "09223667",
   "metadata": {},
   "outputs": [],
   "source": [
    "\n",
    "\n",
    "def getData():\n",
    "    file = open('data/finaloutput.txt', 'r', encoding=\"utf-8\")\n",
    "    data = file.readlines()\n",
    "    myDic = []\n",
    "    for line in data: \n",
    "        if line != \"\\n\":\n",
    "            myDic.append(line.split(','))\n",
    "                 \n",
    "    file.close()\n",
    "    return myDic\n",
    "theNewDictionary = getData()\n"
   ]
  },
  {
   "cell_type": "code",
   "execution_count": 5,
   "id": "a3b3947a",
   "metadata": {
    "scrolled": false
   },
   "outputs": [
    {
     "name": "stdout",
     "output_type": "stream",
     "text": [
      "458197\n"
     ]
    }
   ],
   "source": [
    "print(len(theNewDictionary))"
   ]
  },
  {
   "cell_type": "code",
   "execution_count": 6,
   "id": "ae6e2f41",
   "metadata": {},
   "outputs": [
    {
     "data": {
      "text/plain": [
       "(458197, 2)"
      ]
     },
     "execution_count": 6,
     "metadata": {},
     "output_type": "execute_result"
    }
   ],
   "source": [
    "df = (pd.DataFrame(theNewDictionary))\n",
    "df.shape"
   ]
  },
  {
   "cell_type": "code",
   "execution_count": 7,
   "id": "a1801373",
   "metadata": {},
   "outputs": [
    {
     "data": {
      "text/html": [
       "<div>\n",
       "<style scoped>\n",
       "    .dataframe tbody tr th:only-of-type {\n",
       "        vertical-align: middle;\n",
       "    }\n",
       "\n",
       "    .dataframe tbody tr th {\n",
       "        vertical-align: top;\n",
       "    }\n",
       "\n",
       "    .dataframe thead th {\n",
       "        text-align: right;\n",
       "    }\n",
       "</style>\n",
       "<table border=\"1\" class=\"dataframe\">\n",
       "  <thead>\n",
       "    <tr style=\"text-align: right;\">\n",
       "      <th></th>\n",
       "      <th>0</th>\n",
       "      <th>1</th>\n",
       "    </tr>\n",
       "  </thead>\n",
       "  <tbody>\n",
       "    <tr>\n",
       "      <th>0</th>\n",
       "      <td>1175358310087892992</td>\n",
       "      <td>@Nw8ieJUwaCAAreT لكن بالنهاية .. ينتفض .. يغير...</td>\n",
       "    </tr>\n",
       "    <tr>\n",
       "      <th>1</th>\n",
       "      <td>1175416117793349632</td>\n",
       "      <td>@7zNqXP0yrODdRjK يعني هذا محسوب على البشر .. ح...</td>\n",
       "    </tr>\n",
       "    <tr>\n",
       "      <th>2</th>\n",
       "      <td>1175450108898565888</td>\n",
       "      <td>@KanaanRema مبين من كلامه خليجي\\n</td>\n",
       "    </tr>\n",
       "    <tr>\n",
       "      <th>3</th>\n",
       "      <td>1175471073770573824</td>\n",
       "      <td>@HAIDER76128900 يسلملي مرورك وروحك الحلوه💐\\n</td>\n",
       "    </tr>\n",
       "    <tr>\n",
       "      <th>4</th>\n",
       "      <td>1175496913145217024</td>\n",
       "      <td>@hmo2406 وين هل الغيبه اخ محمد 🌸🌺\\n</td>\n",
       "    </tr>\n",
       "  </tbody>\n",
       "</table>\n",
       "</div>"
      ],
      "text/plain": [
       "                     0                                                  1\n",
       "0  1175358310087892992  @Nw8ieJUwaCAAreT لكن بالنهاية .. ينتفض .. يغير...\n",
       "1  1175416117793349632  @7zNqXP0yrODdRjK يعني هذا محسوب على البشر .. ح...\n",
       "2  1175450108898565888                  @KanaanRema مبين من كلامه خليجي\\n\n",
       "3  1175471073770573824       @HAIDER76128900 يسلملي مرورك وروحك الحلوه💐\\n\n",
       "4  1175496913145217024                @hmo2406 وين هل الغيبه اخ محمد 🌸🌺\\n"
      ]
     },
     "execution_count": 7,
     "metadata": {},
     "output_type": "execute_result"
    }
   ],
   "source": [
    "df.head()"
   ]
  },
  {
   "cell_type": "code",
   "execution_count": 8,
   "id": "b338e0e4",
   "metadata": {},
   "outputs": [],
   "source": [
    "df[1] = df.iloc[:,1].apply(lambda x: removing_http(x))\n",
    "df[1] = df.iloc[:,1].apply(lambda x: removing_tag(x))\n",
    "df[1] = df.iloc[:,1].apply(lambda x: clean(x))\n"
   ]
  },
  {
   "cell_type": "code",
   "execution_count": 9,
   "id": "d84b8261",
   "metadata": {},
   "outputs": [
    {
     "data": {
      "text/html": [
       "<div>\n",
       "<style scoped>\n",
       "    .dataframe tbody tr th:only-of-type {\n",
       "        vertical-align: middle;\n",
       "    }\n",
       "\n",
       "    .dataframe tbody tr th {\n",
       "        vertical-align: top;\n",
       "    }\n",
       "\n",
       "    .dataframe thead th {\n",
       "        text-align: right;\n",
       "    }\n",
       "</style>\n",
       "<table border=\"1\" class=\"dataframe\">\n",
       "  <thead>\n",
       "    <tr style=\"text-align: right;\">\n",
       "      <th></th>\n",
       "      <th>0</th>\n",
       "      <th>1</th>\n",
       "    </tr>\n",
       "  </thead>\n",
       "  <tbody>\n",
       "    <tr>\n",
       "      <th>0</th>\n",
       "      <td>1175358310087892992</td>\n",
       "      <td>لكن بالنهاية ينتفض يغير</td>\n",
       "    </tr>\n",
       "    <tr>\n",
       "      <th>1</th>\n",
       "      <td>1175416117793349632</td>\n",
       "      <td>يعني هذا محسوب على البشر حيونه ووحشيه وتطلبون...</td>\n",
       "    </tr>\n",
       "    <tr>\n",
       "      <th>2</th>\n",
       "      <td>1175450108898565888</td>\n",
       "      <td>مبين من كلامه خليجي</td>\n",
       "    </tr>\n",
       "    <tr>\n",
       "      <th>3</th>\n",
       "      <td>1175471073770573824</td>\n",
       "      <td>يسلملي مرورك وروحك الحلوه</td>\n",
       "    </tr>\n",
       "    <tr>\n",
       "      <th>4</th>\n",
       "      <td>1175496913145217024</td>\n",
       "      <td>وين هل الغيبه اخ محمد</td>\n",
       "    </tr>\n",
       "  </tbody>\n",
       "</table>\n",
       "</div>"
      ],
      "text/plain": [
       "                     0                                                  1\n",
       "0  1175358310087892992                           لكن بالنهاية ينتفض يغير \n",
       "1  1175416117793349632   يعني هذا محسوب على البشر حيونه ووحشيه وتطلبون...\n",
       "2  1175450108898565888                               مبين من كلامه خليجي \n",
       "3  1175471073770573824                         يسلملي مرورك وروحك الحلوه \n",
       "4  1175496913145217024                             وين هل الغيبه اخ محمد "
      ]
     },
     "execution_count": 9,
     "metadata": {},
     "output_type": "execute_result"
    }
   ],
   "source": [
    "df[1] = df.iloc[:,1].apply(lambda x: strip_tatweel(x))\n",
    "df[1] = df.iloc[:,1].apply(lambda x: strip_tashkeel(x))\n",
    "\n",
    "\n",
    "\n",
    "df.head()"
   ]
  },
  {
   "cell_type": "code",
   "execution_count": null,
   "id": "5edb0719",
   "metadata": {},
   "outputs": [],
   "source": [
    "df.to_csv('data/cleandata.txt', encoding='UTF-8' , header= ['id', 'text'], index=False )"
   ]
  },
  {
   "cell_type": "code",
   "execution_count": 17,
   "id": "4e167116",
   "metadata": {},
   "outputs": [
    {
     "data": {
      "text/plain": [
       "'ض'"
      ]
     },
     "execution_count": 17,
     "metadata": {},
     "output_type": "execute_result"
    }
   ],
   "source": [
    "arabconst.DAD"
   ]
  },
  {
   "cell_type": "code",
   "execution_count": 19,
   "id": "5d2f4336",
   "metadata": {},
   "outputs": [
    {
     "data": {
      "text/plain": [
       "re.compile(r'[ًٌٍَُِّْ]', re.UNICODE)"
      ]
     },
     "execution_count": 19,
     "metadata": {},
     "output_type": "execute_result"
    }
   ],
   "source": [
    "arabconst.HARAKAT_PAT\n"
   ]
  },
  {
   "cell_type": "code",
   "execution_count": null,
   "id": "174b6c9e",
   "metadata": {},
   "outputs": [],
   "source": []
  }
 ],
 "metadata": {
  "kernelspec": {
   "display_name": "Python 3",
   "language": "python",
   "name": "python3"
  },
  "language_info": {
   "codemirror_mode": {
    "name": "ipython",
    "version": 3
   },
   "file_extension": ".py",
   "mimetype": "text/x-python",
   "name": "python",
   "nbconvert_exporter": "python",
   "pygments_lexer": "ipython3",
   "version": "3.8.8"
  }
 },
 "nbformat": 4,
 "nbformat_minor": 5
}
